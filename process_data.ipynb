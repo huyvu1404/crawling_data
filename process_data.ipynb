{
 "cells": [
  {
   "cell_type": "code",
   "execution_count": 3,
   "metadata": {},
   "outputs": [],
   "source": [
    "from pyspark.sql import SparkSession\n",
    "import os"
   ]
  },
  {
   "cell_type": "code",
   "execution_count": 4,
   "metadata": {},
   "outputs": [
    {
     "name": "stderr",
     "output_type": "stream",
     "text": [
      "your 131072x1 screen size is bogus. expect trouble\n",
      "24/07/11 13:52:12 WARN Utils: Your hostname, HuyVu resolves to a loopback address: 127.0.1.1; using 10.255.255.254 instead (on interface lo)\n",
      "24/07/11 13:52:12 WARN Utils: Set SPARK_LOCAL_IP if you need to bind to another address\n",
      "Setting default log level to \"WARN\".\n",
      "To adjust logging level use sc.setLogLevel(newLevel). For SparkR, use setLogLevel(newLevel).\n",
      "24/07/11 13:52:12 WARN NativeCodeLoader: Unable to load native-hadoop library for your platform... using builtin-java classes where applicable\n"
     ]
    }
   ],
   "source": [
    "spark = SparkSession.builder.appName(\"Spark-Processing-Data\").getOrCreate()\n",
    "sc = spark.sparkContext"
   ]
  },
  {
   "cell_type": "markdown",
   "metadata": {},
   "source": [
    "### Laptop"
   ]
  },
  {
   "cell_type": "code",
   "execution_count": 62,
   "metadata": {},
   "outputs": [
    {
     "name": "stdout",
     "output_type": "stream",
     "text": [
      "+------------------------------------------------------------+-------+---------+----------+-----------+-------------+-------------+------------+---------+------------------------------------------------------------------------------------+\n",
      "|name                                                        |brand  |ram      |ssd       |old_price  |current_price|gift         |total_rating|avg_score|link                                                                                |\n",
      "+------------------------------------------------------------+-------+---------+----------+-----------+-------------+-------------+------------+---------+------------------------------------------------------------------------------------+\n",
      "|Lenovo Ideapad Slim 3 15IAH8 i5 12450H (83ER000EVN)         |Lenovo |RAM 16 GB|SSD 512 GB|15.990.000₫|14.390.000₫  |Quà1.090.000₫|11          |4.5      |https://www.thegioididong.com/laptop/lenovo-ideapad-slim-3-15iah8-i5-83er00evn      |\n",
      "|Asus Vivobook Go 15 E1504FA R5 7520U (NJ776W)               |Asus   |RAM 16 GB|SSD 512 GB|14.490.000₫|12.490.000₫  |Quà1.090.000₫|31          |4.0      |https://www.thegioididong.com/laptop/asus-vivobook-go-15-e1504fa-r5-nj776w          |\n",
      "|Dell Inspiron 15 3520 i5 1235U                              |Dell   |RAM 16 GB|SSD 512 GB|16.990.000₫|16.490.000₫  |Quà100.000₫  |13          |4.0      |https://www.thegioididong.com/laptop/dell-inspiron-15-3520-i5-25p231?utm_flashsale=1|\n",
      "|HP 245 G10 R5 7530U (A20TDPT)                               |HP     |RAM 8 GB |SSD 512 GB|14.590.000₫|12.190.000₫  |Quà1.090.000₫|0           |0.0      |https://www.thegioididong.com/laptop/hp-245-g10-r5-a20tdpt                          |\n",
      "|Acer Aspire 3 A315 510P 32EF i3 N305 (NX.KDHSV.001)         |Acer   |RAM 8 GB |SSD 256 GB|9.990.000₫ |8.990.000₫   |Quà1.090.000₫|26          |4.5      |https://www.thegioididong.com/laptop/acer-aspire-3-a315-510p-32ef-i3-nxkdhsv001     |\n",
      "|Lenovo LOQ Gaming 15IAX9 i5 12450HX (83GS000JVN)            |Lenovo |RAM 16 GB|SSD 512 GB|24.990.000₫|21.690.000₫  |Quà1.090.000₫|5           |4.0      |https://www.thegioididong.com/laptop/lenovo-loq-gaming-15iax9-i5-83gs000jvn         |\n",
      "|Asus Vivobook 15 X1504ZA i3 1215U (NJ102W)                  |Asus   |RAM 8 GB |SSD 512 GB|12.290.000₫|10.690.000₫  |Quà1.090.000₫|10          |4.0      |https://www.thegioididong.com/laptop/asus-vivobook-15-x1504za-i3-nj102w             |\n",
      "|HP 240 G8 i3 1115G4 (6L1A2PA)                               |HP     |RAM 8 GB |SSD 512 GB|12.790.000₫|9.490.000₫   |Quà1.090.000₫|0           |0.0      |https://www.thegioididong.com/laptop/hp-240-g8-i3-6l1a2pa                           |\n",
      "|MacBook Air 13 inch M1                                      |MacBook|RAM 8 GB |SSD 256 GB|19.990.000₫|19.490.000₫  |Quà500.000₫  |210         |4.0      |https://www.thegioididong.com/laptop/apple-macbook-air-2020-mgn63saa                |\n",
      "|HP Pavilion 15 eg2081TU i5 1240P (7C0Q4PA)                  |HP     |RAM 16 GB|SSD 512 GB|20.990.000₫|17.490.000₫  |Quà1.090.000₫|30          |4.0      |https://www.thegioididong.com/laptop/hp-pavilion-15-eg2081tu-i5-7c0q4pa             |\n",
      "|HP 15 fd0234TU i5 1334U (9Q969PA)                           |HP     |RAM 16 GB|SSD 512 GB|19.790.000₫|17.190.000₫  |Quà1.090.000₫|0           |0.0      |https://www.thegioididong.com/laptop/hp-15-fd0234tu-i5-9q969pa                      |\n",
      "|Dell Inspiron 15 3520 i5 1235U (N5I5052W1)                  |Dell   |RAM 16 GB|SSD 512 GB|16.990.000₫|16.490.000₫  |Quà100.000₫  |0           |0.0      |https://www.thegioididong.com/laptop/dell-inspiron-15-3520-i5-n5i5052w1             |\n",
      "|Asus Vivobook X1404ZA i5 1235U (NK376W)                     |Asus   |RAM 16 GB|SSD 512 GB|16.490.000₫|14.590.000₫  |Quà1.090.000₫|0           |0.0      |https://www.thegioididong.com/laptop/asus-vivobook-x1404za-i5-nk376w                |\n",
      "|Acer Aspire Lite 15 51M 55NB i5 1155G7 (NX.KRSSV.001)       |Acer   |RAM 8 GB |SSD 512 GB|12.990.000₫|11.990.000₫  |Quà1.090.000₫|0           |0.0      |https://www.thegioididong.com/laptop/acer-aspire-lite-15-51m-55nb-i5-nxkrssv001     |\n",
      "|MacBook Air 13 inch M2 2022 8-core CPU                      |MacBook|RAM 8 GB |SSD 256 GB|27.090.000₫|26.290.000₫  |Quà2.100.000₫|77          |5.0      |https://www.thegioididong.com/laptop/apple-macbook-air-m2-2022                      |\n",
      "|Asus TUF Gaming F15 FX507ZC4 i5 12500H (HN229W)             |Asus   |RAM 16 GB|SSD 1 TB  |25.990.000₫|21.390.000₫  |Quà1.090.000₫|13          |4.0      |https://www.thegioididong.com/laptop/asus-tuf-gaming-f15-fx507zc4-i5-hn229w         |\n",
      "|Acer Gaming Aspire 5 A515 58GM 51LB i5 13420H (NX.KQ4SV.002)|Acer   |RAM 16 GB|SSD 512 GB|20.490.000₫|17.990.000₫  |Quà1.090.000₫|23          |4.0      |https://www.thegioididong.com/laptop/acer-aspire-5-a515-58gm-51lb-i5-nxkq4sv002     |\n",
      "|Acer Aspire Lite 14 51M 59BN i5 1235U (NX.KTXSV.001)        |Acer   |RAM 16 GB|SSD 512 GB|14.990.000₫|14.490.000₫  |Quà1.090.000₫|0           |0.0      |https://www.thegioididong.com/laptop/acer-aspire-lite-14-51m-59bn-i5-nxktxsv001     |\n",
      "|Lenovo Ideapad 1 15ALC7 R7 5700U (82R400C1VN)               |Lenovo |RAM 16 GB|SSD 512 GB|13.990.000₫|12.690.000₫  |Quà1.090.000₫|3           |5.0      |https://www.thegioididong.com/laptop/lenovo-ideapad-1-15alc7-r7-82r400c1vn          |\n",
      "|HP 15 fd0303TU i3 1315U (A2NL4PA)                           |HP     |RAM 8 GB |SSD 512 GB|13.490.000₫|11.790.000₫  |Quà1.090.000₫|0           |0.0      |https://www.thegioididong.com/laptop/hp-15-fd0303tu-i3-a2nl4pa                      |\n",
      "+------------------------------------------------------------+-------+---------+----------+-----------+-------------+-------------+------------+---------+------------------------------------------------------------------------------------+\n",
      "only showing top 20 rows\n",
      "\n"
     ]
    }
   ],
   "source": [
    "laptop_df = spark.read.csv('./data/raw/tgdd_laptops_data.csv', header=True)\n",
    "laptop_df.show(truncate=False)"
   ]
  },
  {
   "cell_type": "code",
   "execution_count": 63,
   "metadata": {},
   "outputs": [
    {
     "name": "stdout",
     "output_type": "stream",
     "text": [
      "+------------------------------------+-----+-----------+--------------+---+---+--------+------------+---------------+---------+-----------+------------+----------------------------------------------------------------------------------------------+\n",
      "|Name                                |Brand|ProductType|Core          |RAM|SSD|OldPrice|CurrentPrice|DiscountPercent|GiftValue|TotalRating|AverageScore|LinkProduct                                                                                   |\n",
      "+------------------------------------+-----+-----------+--------------+---+---+--------+------------+---------------+---------+-----------+------------+----------------------------------------------------------------------------------------------+\n",
      "|Acer Aspire 3 A314 42P              |Acer |Laptop     |R3B3 R7 5700U |16 |512|13990000|13390000    |4.29           |1090000  |0          |0.0         |https://www.thegioididong.com/laptop/acer-aspire-3-a314-42p-r3b3-r7-nxksfsv001                |\n",
      "|Acer Aspire 3 A315 44P              |Acer |Laptop     |R9W8 R7 5700U |8  |512|12990000|12490000    |3.85           |1090000  |3          |4.0         |https://www.thegioididong.com/laptop/acer-aspire-a315-44p-r9w8-r7-nxksjsv002                  |\n",
      "|Acer Aspire 3 A315 510P 32EF        |Acer |Laptop     |i3 N305       |8  |256|9990000 |8990000     |10.01          |1090000  |26         |4.5         |https://www.thegioididong.com/laptop/acer-aspire-3-a315-510p-32ef-i3-nxkdhsv001               |\n",
      "|Acer Aspire 3 A315 58 54XF          |Acer |Laptop     |i5 1135G7     |8  |512|14990000|11490000    |23.35          |1090000  |45         |4.0         |https://www.thegioididong.com/laptop/acer-aspire-3-a315-58-54xf-i5-nxam0sv007?utm_flashsale=1 |\n",
      "|Acer Aspire 3 A315 58 589K          |Acer |Laptop     |i5 1135G7     |8  |256|13990000|10990000    |21.44          |1090000  |29         |4.0         |https://www.thegioididong.com/laptop/acer-aspire-3-a315-58-589k-i5-nxam0sv008?utm_flashsale=1 |\n",
      "|Acer Aspire 3 A315 59 38PG          |Acer |Laptop     |i3 1215U      |8  |512|13990000|10690000    |23.59          |1090000  |12         |4.0         |https://www.thegioididong.com/laptop/acer-aspire-3-a315-59-38pg-i3-nxk6tsv00a?utm_flashsale=1 |\n",
      "|Acer Aspire 3 A315 59 5283          |Acer |Laptop     |i5 1235U      |8  |512|15990000|12990000    |18.76          |1090000  |8          |4.0         |https://www.thegioididong.com/laptop/acer-aspire-3-a315-59-5283-i5-nxk6tsv00b                 |\n",
      "|Acer Aspire 5 A514 54 5127          |Acer |Laptop     |i5 1135G7     |8  |512|15490000|12990000    |16.14          |1090000  |25         |4.0         |https://www.thegioididong.com/laptop/acer-aspire-a514-54-5127-i5-nxa28sv007                   |\n",
      "|Acer Aspire 5 A514 56P 54TN         |Acer |Laptop     |i5 1335U      |8  |512|15990000|14290000    |10.63          |1090000  |0          |0.0         |https://www.thegioididong.com/laptop/acer-aspire-5-a514-56p-54tn-i5-nxkhrsv004                |\n",
      "|Acer Aspire 5 A515 58M 56YX         |Acer |Laptop     |i5 13420H     |16 |512|17490000|16990000    |2.86           |1090000  |0          |0.0         |https://www.thegioididong.com/laptop/acer-aspire-5-a515-58m-56yx-i5-nxkq8sv005?utm_flashsale=1|\n",
      "|Acer Aspire 5 A515 58M 79           |Acer |Laptop     |R7 i7 13620H  |16 |512|20990000|20490000    |2.38           |1090000  |0          |0.0         |https://www.thegioididong.com/laptop/acer-aspire-5-a515-58m-79r7-i7-nxkq8sv007                |\n",
      "|Acer Aspire 5 A515 58P 34RJ         |Acer |Laptop     |i3 1315U      |8  |512|13090000|10990000    |16.04          |1090000  |11         |4.5         |https://www.thegioididong.com/laptop/acer-aspire-5-a515-58p-34rj-i3-nxkhjsv003                |\n",
      "|Acer Aspire Lite 14 51M 36MH        |Acer |Laptop     |i3 1215U      |8  |256|NULL    |10490000    |NULL           |1090000  |0          |0.0         |https://www.thegioididong.com/laptop/acer-aspire-lite-14-51m-36mh-i3-nxktvsv001               |\n",
      "|Acer Aspire Lite 14 51M 36PN        |Acer |Laptop     |i3 1215U      |8  |512|NULL    |10990000    |NULL           |1090000  |0          |0.0         |https://www.thegioididong.com/laptop/acer-aspire-lite-14-51m-36pn-i3-nxktwsv001               |\n",
      "|Acer Aspire Lite 14 51M 59BN        |Acer |Laptop     |i5 1235U      |16 |512|14990000|14490000    |3.34           |1090000  |0          |0.0         |https://www.thegioididong.com/laptop/acer-aspire-lite-14-51m-59bn-i5-nxktxsv001               |\n",
      "|Acer Aspire Lite 15 51M 5542        |Acer |Laptop     |i5 1155G7     |16 |512|13990000|12990000    |7.15           |1090000  |4          |2.5         |https://www.thegioididong.com/laptop/acer-aspire-lite-15-51m-5542-i5-nxks5sv001               |\n",
      "|Acer Aspire Lite 15 51M 55NB        |Acer |Laptop     |i5 1155G7     |8  |512|12990000|11990000    |7.7            |1090000  |0          |0.0         |https://www.thegioididong.com/laptop/acer-aspire-lite-15-51m-55nb-i5-nxkrssv001               |\n",
      "|Acer Aspire Lite AL16 51P 596H      |Acer |Laptop     |i5 1235U      |8  |512|13990000|13490000    |3.57           |1090000  |0          |0.0         |https://www.thegioididong.com/laptop/acer-aspire-lite-al16-51p-596h-i5-nxkwzsv002             |\n",
      "|Acer Gaming Aspire 5 A515 58GM 51LB |Acer |Laptop     |i5 13420H     |16 |512|20490000|17990000    |12.2           |1090000  |23         |4.0         |https://www.thegioididong.com/laptop/acer-aspire-5-a515-58gm-51lb-i5-nxkq4sv002               |\n",
      "|Acer Gaming Aspire 5 A515 58GM 53PZ |Acer |Laptop     |i5 13420H     |8  |512|20490000|17490000    |14.64          |1090000  |0          |0.0         |https://www.thegioididong.com/laptop/acer-aspire-a515-58gm-53pz-i5-nxkq4sv008                 |\n",
      "+------------------------------------+-----+-----------+--------------+---+---+--------+------------+---------------+---------+-----------+------------+----------------------------------------------------------------------------------------------+\n",
      "only showing top 20 rows\n",
      "\n"
     ]
    },
    {
     "name": "stderr",
     "output_type": "stream",
     "text": [
      "                                                                                \r"
     ]
    }
   ],
   "source": [
    "from functions import string_to_int_udf, split_name_product_udf, convert_storage_udf\n",
    "import pyspark.sql.functions as F\n",
    "\n",
    "processed_laptop_df= laptop_df.withColumn(\"result\", split_name_product_udf(laptop_df.name))\n",
    "processed_laptop_df= processed_laptop_df.withColumn(\"Name\", F.col(\"result.names\")) \\\n",
    "                                 .withColumn(\"Core\", F.col(\"result.cores\")) \\\n",
    "                                 .withColumn(\"Code\", F.col(\"result.codes\")) \\\n",
    "                                 .drop(\"result\")\n",
    "processed_laptop_df= processed_laptop_df.withColumn(\"RAM\", convert_storage_udf(F.col(\"ram\")))\n",
    "processed_laptop_df= processed_laptop_df.withColumn(\"SSD\", convert_storage_udf(F.col(\"ssd\")))\n",
    "\n",
    "processed_laptop_df= processed_laptop_df.withColumn(\"OldPrice\", string_to_int_udf(F.col(\"old_price\")))\n",
    "processed_laptop_df= processed_laptop_df.withColumn(\"CurrentPrice\", string_to_int_udf(F.col(\"current_price\")))\n",
    "processed_laptop_df= processed_laptop_df.withColumn(\"GiftValue\", string_to_int_udf(F.col(\"gift\")))\n",
    "processed_laptop_df= processed_laptop_df.withColumnRenamed('brand', 'Brand')\\\n",
    "                                        .withColumnRenamed('total_rating', 'TotalRating')\\\n",
    "                                        .withColumnRenamed('avg_score', 'AverageScore')\\\n",
    "                                        .withColumnRenamed('link', 'LinkProduct')\n",
    "                                        \n",
    "processed_laptop_df= processed_laptop_df.withColumn('DiscountPercent', F.round(((F.col(\"OldPrice\") - F.col(\"CurrentPrice\")) / F.col(\"OldPrice\") * 100), 2))\n",
    "processed_laptop_df = processed_laptop_df.orderBy(['Name', 'CurrentPrice'], ascending = [1, 0])\\\n",
    "                                         .withColumn(\"ProductType\", F.lit('Laptop'))\\\n",
    "                                         .withColumn('Brand', F.when(processed_laptop_df.Brand == 'MacBook', 'Apple').otherwise(processed_laptop_df.Brand))\n",
    "processed_laptop_df = processed_laptop_df.select(['Name', 'Brand', 'ProductType', 'Core', 'RAM', 'SSD', 'OldPrice', 'CurrentPrice', \"DiscountPercent\", \"GiftValue\", 'TotalRating', 'AverageScore', 'LinkProduct'])\n",
    "processed_laptop_df.show(truncate=False)"
   ]
  },
  {
   "cell_type": "markdown",
   "metadata": {},
   "source": [
    "### Phone"
   ]
  },
  {
   "cell_type": "code",
   "execution_count": 24,
   "metadata": {},
   "outputs": [
    {
     "name": "stdout",
     "output_type": "stream",
     "text": [
      "+---------+--------------+-------------+-----------+------------------------------------------------------------------------+-------------------------------+-----------+---------------------+------------+\n",
      "|avg_score|brand         |current_price|gift       |link                                                                    |name                           |old_price  |screen               |total_rating|\n",
      "+---------+--------------+-------------+-----------+------------------------------------------------------------------------+-------------------------------+-----------+---------------------+------------+\n",
      "|0.0      |vivo          |5.790.000₫   |Quà100.000₫|https://www.thegioididong.com/dtdd/dtdd/vivo-y28                        |vivo Y28                       |NULL       |6.68 \" HD+           |0           |\n",
      "|4.0      |iPhone (Apple)|29.290.000₫  |NULL       |https://www.thegioididong.com/dtdd/dtdd/iphone-15-pro-max               |iPhone 15 Pro Max              |34.990.000₫|6.7\" Super Retina XDR|156         |\n",
      "|4.5      |Samsung       |23.990.000₫  |NULL       |https://www.thegioididong.com/dtdd/dtdd/samsung-galaxy-s23-ultra        |Samsung Galaxy S23 Ultra 5G    |24.990.000₫|6.8\" Quad HD+ (2K+)  |134         |\n",
      "|3.5      |OPPO          |8.490.000₫   |NULL       |https://www.thegioididong.com/dtdd/dtdd/oppo-reno11-f-5g                |OPPO Reno11 F 5G               |8.990.000₫ |6.7\" Full HD+        |24          |\n",
      "|0.0      |Xiaomi        |4.090.000₫   |NULL       |https://www.thegioididong.com/dtdd/dtdd/xiaomi-redmi-13-6gb-128gb       |Xiaomi Redmi 13                |4.290.000₫ |6.79\" Full HD+       |0           |\n",
      "|3.0      |Xiaomi        |5.290.000₫   |Quà300.000₫|https://www.thegioididong.com/dtdd/dtdd/xiaomi-redmi-note-13            |Xiaomi Redmi Note 13           |NULL       |6.67\" Full HD+       |152         |\n",
      "|4.0      |realme        |4.790.000₫   |NULL       |https://www.thegioididong.com/dtdd/dtdd/realme-c65                      |realme C65                     |NULL       |6.67\" HD+            |7           |\n",
      "|4.0      |Samsung       |11.490.000₫  |NULL       |https://www.thegioididong.com/dtdd/dtdd/samsung-galaxy-a55-5g           |Samsung Galaxy A55 5G          |11.990.000₫|6.6\" Full HD+        |30          |\n",
      "|4.0      |iPhone (Apple)|14.190.000₫  |NULL       |https://www.thegioididong.com/dtdd/dtdd/iphone-13                       |iPhone 13                      |17.790.000₫|6.1\" Super Retina XDR|541         |\n",
      "|0.0      |Samsung       |8.290.000₫   |NULL       |https://www.thegioididong.com/dtdd/dtdd/samsung-galaxy-m35-5g           |Samsung Galaxy M35 5G 8GB/256GB|8.790.000₫ |6.6\" Full HD+        |0           |\n",
      "|3.0      |Xiaomi        |7.290.000₫   |Quà400.000₫|https://www.thegioididong.com/dtdd/dtdd/xiaomi-redmi-note-13-pro        |Xiaomi Redmi Note 13 Pro       |NULL       |6.67\" Full HD+       |33          |\n",
      "|0.0      |Samsung       |11.690.000₫  |NULL       |https://www.thegioididong.com/dtdd/dtdd/samsung-galaxy-m55-5g-12gb-256gb|Samsung Galaxy M55 5G          |12.690.000₫|6.7\" Full HD+        |0           |\n",
      "|4.0      |OPPO          |5.490.000₫   |NULL       |https://www.thegioididong.com/dtdd/dtdd/oppo-a58-4g                     |OPPO A58                       |NULL       |6.72\" Full HD+       |76          |\n",
      "|3.0      |Samsung       |8.990.000₫   |NULL       |https://www.thegioididong.com/dtdd/dtdd/samsung-galaxy-m54              |Samsung Galaxy M54 5G 8GB/256GB|NULL       |6.7\" Full HD+        |41          |\n",
      "|4.0      |realme        |2.490.000₫   |NULL       |https://www.thegioididong.com/dtdd/dtdd/realme-note-50-64gb             |realme Note 50                 |NULL       |6.74\" HD+            |20          |\n",
      "|3.0      |Samsung       |12.890.000₫  |NULL       |https://www.thegioididong.com/dtdd/dtdd/samsung-galaxy-s23-fe           |Samsung Galaxy S23 FE 5G       |14.890.000₫|6.4\" Full HD+        |58          |\n",
      "|4.0      |Samsung       |8.490.000₫   |NULL       |https://www.thegioididong.com/dtdd/dtdd/samsung-galaxy-a35-5g           |Samsung Galaxy A35 5G          |9.290.000₫ |6.6\" Full HD+        |11          |\n",
      "|4.0      |vivo          |5.190.000₫   |NULL       |https://www.thegioididong.com/dtdd/dtdd/vivo-y36-128gb                  |vivo Y36                       |NULL       |Full HD+ 6.64\"       |16          |\n",
      "|4.0      |OPPO          |3.290.000₫   |Quà100.000₫|https://www.thegioididong.com/dtdd/dtdd/oppo-a18                        |OPPO A18                       |NULL       |6.56\" HD+            |23          |\n",
      "|4.0      |Xiaomi        |2.890.000₫   |NULL       |https://www.thegioididong.com/dtdd/dtdd/xiaomi-redmi-13c                |Xiaomi Redmi 13C               |3.090.000₫ |6.74\" HD+            |67          |\n",
      "+---------+--------------+-------------+-----------+------------------------------------------------------------------------+-------------------------------+-----------+---------------------+------------+\n",
      "only showing top 20 rows\n",
      "\n"
     ]
    }
   ],
   "source": [
    "phone_df = spark.read.json('./data/raw/tgdd_phones_data.json', multiLine=True)\n",
    "phone_df.show(truncate=False)"
   ]
  },
  {
   "cell_type": "code",
   "execution_count": 25,
   "metadata": {},
   "outputs": [
    {
     "name": "stdout",
     "output_type": "stream",
     "text": [
      "+-----------------------+-----------+-------+-------------+--------+------------+---------------+---------+-----------+------------+--------------------------------------------------------+\n",
      "|Name                   |ProductType|Brand  |Screen       |OldPrice|CurrentPrice|DiscountPercent|GiftValue|TotalRating|AverageScore|LinkProduct                                             |\n",
      "+-----------------------+-----------+-------+-------------+--------+------------+---------------+---------+-----------+------------+--------------------------------------------------------+\n",
      "|HONOR 90 12GB/256GB    |Phone      |HONOR  |1.5K 6.7\"    |NULL    |NULL        |NULL           |NULL     |0          |0.0         |https://www.thegioididong.com/dtdd/dtdd/honor-90        |\n",
      "|HONOR 90 Lite 8GB/256GB|Phone      |HONOR  |6.7\" Full HD+|6490000 |5490000     |15.41          |NULL     |0          |0.0         |https://www.thegioididong.com/dtdd/dtdd/honor-90-lite   |\n",
      "|HONOR X5 Plus 4GB/64GB |Phone      |HONOR  |6.56\" HD+    |NULL    |2490000     |NULL           |NULL     |0          |0.0         |https://www.thegioididong.com/dtdd/dtdd/honor-x5-plus   |\n",
      "|HONOR X6a 4GB/128GB    |Phone      |HONOR  |HD+ 6.56\"    |NULL    |NULL        |NULL           |NULL     |0          |0.0         |https://www.thegioididong.com/dtdd/dtdd/honor-x6a       |\n",
      "|HONOR X7b 8GB/256GB    |Phone      |HONOR  |6.8\" Full HD+|5290000 |4990000     |5.67           |NULL     |3          |5.0         |https://www.thegioididong.com/dtdd/dtdd/honor-x7b       |\n",
      "|HONOR X8b 8GB/512GB    |Phone      |HONOR  |6.7\" Full HD+|7690000 |6690000     |13.0           |990000   |18         |5.0         |https://www.thegioididong.com/dtdd/dtdd/honor-x8b       |\n",
      "|Itel it9010            |Phone      |Itel   |1.77\" QQVGA  |NULL    |420000      |NULL           |NULL     |88         |4.0         |https://www.thegioididong.com/dtdd/dtdd/itel-it9010     |\n",
      "|Itel it9210            |Phone      |Itel   |2.4\" QVGA    |NULL    |550000      |NULL           |NULL     |142        |4.0         |https://www.thegioididong.com/dtdd/dtdd/itel-it9210     |\n",
      "|Masstel FAMI 60 4G     |Phone      |Masstel|2\" QVGA      |NULL    |600000      |NULL           |NULL     |152        |4.0         |https://www.thegioididong.com/dtdd/dtdd/masstel-fami-60 |\n",
      "|Masstel Fami 50 4G     |Phone      |Masstel|2\" QQVGA     |NULL    |600000      |NULL           |NULL     |0          |0.0         |https://www.thegioididong.com/dtdd/dtdd/masstel-fami-50 |\n",
      "|Masstel Fami 60S 4G    |Phone      |Masstel|2\" QVGA      |NULL    |700000      |NULL           |NULL     |0          |0.0         |https://www.thegioididong.com/dtdd/dtdd/masstel-fami-60s|\n",
      "|Masstel IZI 10 4G      |Phone      |Masstel|1.77\" QQVGA  |NULL    |390000      |NULL           |NULL     |254        |4.0         |https://www.thegioididong.com/dtdd/dtdd/masstel-izi-10  |\n",
      "|Masstel IZI T6 4G      |Phone      |Masstel|2.4\" QVGA    |NULL    |500000      |NULL           |NULL     |7          |5.0         |https://www.thegioididong.com/dtdd/dtdd/masstel-izi-t6  |\n",
      "|Masstel Lux 10         |Phone      |Masstel|2.4\" QVGA    |NULL    |420000      |NULL           |NULL     |100        |4.0         |https://www.thegioididong.com/dtdd/dtdd/masstel-lux-10  |\n",
      "|Mobell F209 4G         |Phone      |Mobell |2\" QVGA      |620000  |570000      |8.06           |NULL     |44         |4.0         |https://www.thegioididong.com/dtdd/dtdd/mobell-f209     |\n",
      "|Mobell F309 4G         |Phone      |Mobell |2.31\" QVGA   |760000  |700000      |7.89           |NULL     |53         |4.0         |https://www.thegioididong.com/dtdd/dtdd/mobell-f309     |\n",
      "|Mobell M239            |Phone      |Mobell |1.77\" QQVGA  |500000  |400000      |20.0           |NULL     |166        |4.0         |https://www.thegioididong.com/dtdd/dtdd/mobell-m239     |\n",
      "|Mobell M331 4G         |Phone      |Mobell |2.4\" QVGA    |550000  |490000      |10.91          |NULL     |15         |4.0         |https://www.thegioididong.com/dtdd/dtdd/mobell-m331     |\n",
      "|Mobell M539 4G         |Phone      |Mobell |2.8\" QVGA    |700000  |650000      |7.14           |NULL     |99         |4.0         |https://www.thegioididong.com/dtdd/dtdd/mobell-m539     |\n",
      "|Mobell Rock 4 4G       |Phone      |Mobell |2.4\" QVGA    |790000  |670000      |15.19          |NULL     |98         |4.0         |https://www.thegioididong.com/dtdd/dtdd/mobell-rock-4   |\n",
      "+-----------------------+-----------+-------+-------------+--------+------------+---------------+---------+-----------+------------+--------------------------------------------------------+\n",
      "only showing top 20 rows\n",
      "\n"
     ]
    },
    {
     "name": "stderr",
     "output_type": "stream",
     "text": [
      "                                                                                \r"
     ]
    }
   ],
   "source": [
    "from functions import string_to_int_udf\n",
    "import pyspark.sql.functions as F\n",
    "\n",
    "processed_phone_df = phone_df.withColumn(\"OldPrice\", string_to_int_udf(F.col(\"old_price\")))\n",
    "processed_phone_df = processed_phone_df.withColumn(\"CurrentPrice\", string_to_int_udf(F.col(\"current_price\")))\\\n",
    "                                         .withColumn(\"GiftValue\", string_to_int_udf(F.col(\"gift\")))                                        \n",
    "processed_phone_df = processed_phone_df.withColumnRenamed('screen', 'Screen')\\\n",
    "                                         .withColumnRenamed('brand', 'Brand')\\\n",
    "                                         .withColumnRenamed('total_rating', 'TotalRating')\\\n",
    "                                         .withColumnRenamed('avg_score', 'AverageScore')\\\n",
    "                                         .withColumnRenamed('link', 'LinkProduct')\n",
    "processed_phone_df = processed_phone_df.withColumn('DiscountPercent', F.round(((F.col(\"OldPrice\") - F.col(\"CurrentPrice\")) / F.col(\"OldPrice\") * 100), 2))\n",
    "processed_phone_df = processed_phone_df.orderBy(['Name', 'CurrentPrice'], ascending = [1, 0])\\\n",
    "                                       .withColumn('ProductType', F.lit('Phone'))\\\n",
    "                                       .withColumn('Brand', F.when(processed_phone_df.Brand == 'iPhone (Apple)', 'Apple').otherwise(processed_phone_df.Brand))\n",
    "processed_phone_df = processed_phone_df.select(['Name', 'ProductType', 'Brand', 'Screen', 'OldPrice', 'CurrentPrice', \"DiscountPercent\", 'GiftValue', 'TotalRating', 'AverageScore', 'LinkProduct'])\n",
    "processed_phone_df.show(truncate=False)"
   ]
  },
  {
   "cell_type": "markdown",
   "metadata": {},
   "source": [
    "### Tablet"
   ]
  },
  {
   "cell_type": "code",
   "execution_count": 27,
   "metadata": {},
   "outputs": [
    {
     "name": "stdout",
     "output_type": "stream",
     "text": [
      "+---------+------------+-------------+----+-------------------------------------------------------------------------------------------------+------------------------------------+-----------+--------------------+------------+\n",
      "|avg_score|brand       |current_price|gift|link                                                                                             |name                                |old_price  |screen              |total_rating|\n",
      "+---------+------------+-------------+----+-------------------------------------------------------------------------------------------------+------------------------------------+-----------+--------------------+------------+\n",
      "|0.0      |iPad (Apple)|16.990.000₫  |NULL|https://www.thegioididong.com/may-tinh-bang/may-tinh-bang/ipad-air-m2-11-inch-wifi-128gb         |iPad Air 6 M2 11 inch WiFi          |NULL       |Retina IPS LCD 11\"  |0           |\n",
      "|0.0      |iPad (Apple)|28.990.000₫  |NULL|https://www.thegioididong.com/may-tinh-bang/may-tinh-bang/ipad-pro-m4-11-inch-wifi-256gb         |iPad Pro M4 11 inch WiFi            |NULL       |Ultra Retina XDR 11\"|0           |\n",
      "|4.0      |TCL         |2.090.000₫   |NULL|https://www.thegioididong.com/may-tinh-bang/may-tinh-bang/tcl-tab-10l-gen-2                      |TCL Tab 10L Gen 2 WiFi 3GB/32GB     |2.290.000₫ |IPS LCD 10.1\"       |15          |\n",
      "|4.0      |TCL         |3.290.000₫   |NULL|https://www.thegioididong.com/may-tinh-bang/may-tinh-bang/tcl-tab-10-gen-2                       |TCL Tab 10 Gen 2 4G 4GB/64GB        |3.790.000₫ |IPS LCD 10.36\"      |9           |\n",
      "|4.0      |Samsung     |4.290.000₫   |NULL|https://www.thegioididong.com/may-tinh-bang/may-tinh-bang/samsung-galaxy-tab-a9-4g               |Samsung Galaxy Tab A9               |5.490.000₫ |TFT LCD 8.7\"        |11          |\n",
      "|0.0      |iPad (Apple)|22.490.000₫  |NULL|https://www.thegioididong.com/may-tinh-bang/may-tinh-bang/ipad-air-m2-13-inch-wifi-128gb         |iPad Air 6 M2 13 inch WiFi          |NULL       |Retina IPS LCD 13\"  |0           |\n",
      "|4.0      |Samsung     |6.690.000₫   |NULL|https://www.thegioididong.com/may-tinh-bang/may-tinh-bang/samsung-galaxy-tab-a9-plus-5g          |Samsung Galaxy Tab A9+              |7.490.000₫ |TFT LCD 11\"         |16          |\n",
      "|0.0      |iPad (Apple)|37.990.000₫  |NULL|https://www.thegioididong.com/may-tinh-bang/may-tinh-bang/ipad-pro-m4-13-inch-wifi-256gb         |iPad Pro M4 13 inch WiFi            |NULL       |Ultra Retina XDR 13\"|0           |\n",
      "|4.0      |OPPO        |6.990.000₫   |NULL|https://www.thegioididong.com/may-tinh-bang/may-tinh-bang/oppo-pad-neo-6gb                       |OPPO Pad Neo WiFi 6GB/128GB         |NULL       |IPS LCD 11.4\"       |4           |\n",
      "|5.0      |HONOR       |4.090.000₫   |NULL|https://www.thegioididong.com/may-tinh-bang/may-tinh-bang/honor-pad-x9                           |HONOR Pad X9 WiFi 4GB/128GB         |4.990.000₫ |TFT LCD 11.5\"       |27          |\n",
      "|5.0      |Xiaomi      |6.790.000₫   |NULL|https://www.thegioididong.com/may-tinh-bang/may-tinh-bang/xiaomi-redmi-pad-pro-6gb-128gb         |Xiaomi Redmi Pad Pro WiFi 6GB/128GB |7.290.000₫ |IPS LCD 12.1\"       |3           |\n",
      "|0.0      |iPad (Apple)|26.490.000₫  |NULL|https://www.thegioididong.com/may-tinh-bang/may-tinh-bang/ipad-air-m2-13-inch-wifi-cellular-128gb|iPad Air 6 M2 13 inch 5G            |NULL       |Retina IPS LCD 13\"  |0           |\n",
      "|4.0      |Masstel     |1.890.000₫   |NULL|https://www.thegioididong.com/may-tinh-bang/may-tinh-bang/masstel-tab-10-1                       |Masstel Tab 10.1\" 4G 3GB/32GB       |2.990.000₫ |IPS LCD 10.1\"       |30          |\n",
      "|0.0      |Xiaomi      |7.990.000₫   |NULL|https://www.thegioididong.com/may-tinh-bang/may-tinh-bang/xiaomi-poco-pad-8-256gb                |Xiaomi POCO Pad WiFi 8GB/256GB      |8.690.000₫ |IPS LCD 12.1\"       |0           |\n",
      "|0.0      |iPad (Apple)|34.490.000₫  |NULL|https://www.thegioididong.com/may-tinh-bang/may-tinh-bang/ipad-pro-m4-11-inch-wifi-cellular-256gb|iPad Pro M4 11 inch 5G              |NULL       |Ultra Retina XDR 11\"|0           |\n",
      "|0.0      |Xiaomi      |8.490.000₫   |NULL|https://www.thegioididong.com/may-tinh-bang/may-tinh-bang/xiaomi-redmi-pad-pro-8gb-256gb         |Xiaomi Redmi Pad Pro WiFi 8GB/256GB |8.990.000₫ |IPS LCD 12.1\"       |0           |\n",
      "|0.0      |iPad (Apple)|48.990.000₫  |NULL|https://www.thegioididong.com/may-tinh-bang/may-tinh-bang/ipad-pro-m4-13-inch-wifi-cellular-512gb|iPad Pro M4 13 inch 5G              |NULL       |Ultra Retina XDR 13\"|0           |\n",
      "|4.5      |iPad (Apple)|10.290.000₫  |NULL|https://www.thegioididong.com/may-tinh-bang/may-tinh-bang/ipad-gen-10                            |iPad 10 WiFi                        |11.490.000₫|Retina IPS LCD 10.9\"|85          |\n",
      "|4.5      |Samsung     |8.990.000₫   |NULL|https://www.thegioididong.com/may-tinh-bang/may-tinh-bang/samsung-galaxy-tab-s9-fe               |Samsung Galaxy Tab S9 FE WiFi series|9.990.000₫ |TFT LCD 10.9\"       |13          |\n",
      "|4.5      |iPad (Apple)|7.490.000₫   |NULL|https://www.thegioididong.com/may-tinh-bang/may-tinh-bang/ipad-gen-9                             |iPad 9 WiFi                         |8.390.000₫ |Retina IPS LCD 10.2\"|239         |\n",
      "+---------+------------+-------------+----+-------------------------------------------------------------------------------------------------+------------------------------------+-----------+--------------------+------------+\n",
      "only showing top 20 rows\n",
      "\n"
     ]
    }
   ],
   "source": [
    "tablet_df = spark.read.json('./data/raw/tgdd_tablets_data.json', multiLine=True)\n",
    "tablet_df.show(truncate=False)"
   ]
  },
  {
   "cell_type": "code",
   "execution_count": 31,
   "metadata": {},
   "outputs": [
    {
     "name": "stdout",
     "output_type": "stream",
     "text": [
      "+-------------------------------------------+-----------+-------+-----------------------+--------+------------+---------------+---------+-----------+------------+-----------------------------------------------------------------------------------------+\n",
      "|Name                                       |ProductType|Brand  |Screen                 |OldPrice|CurrentPrice|DiscountPercent|GiftValue|TotalRating|AverageScore|LinkProduct                                                                              |\n",
      "+-------------------------------------------+-----------+-------+-----------------------+--------+------------+---------------+---------+-----------+------------+-----------------------------------------------------------------------------------------+\n",
      "|HONOR Pad X9 WiFi 4GB/128GB                |Tablet     |HONOR  |TFT LCD 11.5\"          |4990000 |4090000     |18.04          |NULL     |27         |5.0         |https://www.thegioididong.com/may-tinh-bang/may-tinh-bang/honor-pad-x9                   |\n",
      "|Lenovo Tab M10 4G 3GB/32GB                 |Tablet     |Lenovo |IPS LCD 10.1\"          |5290000 |3190000     |39.7           |NULL     |13         |4.0         |https://www.thegioididong.com/may-tinh-bang/may-tinh-bang/lenovo-tab-m10-gen-3           |\n",
      "|Lenovo Tab M11 4G                          |Tablet     |Lenovo |IPS LCD 10.95\"         |NULL    |6190000     |NULL           |NULL     |0          |0.0         |https://www.thegioididong.com/may-tinh-bang/may-tinh-bang/lenovo-tab-m11-4g              |\n",
      "|Lenovo Tab M11 WiFi 4GB/128GB              |Tablet     |Lenovo |IPS LCD 10.95\"         |NULL    |5790000     |NULL           |NULL     |0          |0.0         |https://www.thegioididong.com/may-tinh-bang/may-tinh-bang/lenovo-tab-m11-wifi            |\n",
      "|Lenovo Tab M9 4G 4GB/64GB                  |Tablet     |Lenovo |IPS LCD 9\"             |4390000 |3490000     |20.5           |NULL     |17         |5.0         |https://www.thegioididong.com/may-tinh-bang/may-tinh-bang/lenovo-tab-m9                  |\n",
      "|Masstel Tab 10.1\" 4G 3GB/32GB              |Tablet     |Masstel|IPS LCD 10.1\"          |2990000 |1890000     |36.79          |NULL     |30         |4.0         |https://www.thegioididong.com/may-tinh-bang/may-tinh-bang/masstel-tab-10-1               |\n",
      "|Masstel Tab 10.1\" Pro 4G 4GB/64GB          |Tablet     |Masstel|IPS LCD 10.1\"          |3690000 |2790000     |24.39          |NULL     |18         |4.0         |https://www.thegioididong.com/may-tinh-bang/may-tinh-bang/masstel-tab-101-pro            |\n",
      "|OPPO Pad 2 WiFi 8GB/256GB                  |Tablet     |OPPO   |LTPS LCD 11.61\"        |14990000|12990000    |13.34          |NULL     |0          |0.0         |https://www.thegioididong.com/may-tinh-bang/may-tinh-bang/oppo-pad-2                     |\n",
      "|OPPO Pad Air WiFi 4GB/128GB                |Tablet     |OPPO   |IPS LCD 10.36\"         |6490000 |5490000     |15.41          |NULL     |11         |5.0         |https://www.thegioididong.com/may-tinh-bang/may-tinh-bang/oppo-pad-air-128gb             |\n",
      "|OPPO Pad Air WiFi 4GB/64GB                 |Tablet     |OPPO   |IPS LCD 10.36\"         |5490000 |4890000     |10.93          |NULL     |63         |4.0         |https://www.thegioididong.com/may-tinh-bang/may-tinh-bang/oppo-pad-air                   |\n",
      "|OPPO Pad Neo 4G 8GB/128GB                  |Tablet     |OPPO   |IPS LCD 11.4\"          |NULL    |7990000     |NULL           |NULL     |8          |4.5         |https://www.thegioididong.com/may-tinh-bang/may-tinh-bang/oppo-pad-neo                   |\n",
      "|OPPO Pad Neo WiFi 6GB/128GB                |Tablet     |OPPO   |IPS LCD 11.4\"          |NULL    |6990000     |NULL           |NULL     |4          |4.0         |https://www.thegioididong.com/may-tinh-bang/may-tinh-bang/oppo-pad-neo-6gb               |\n",
      "|Samsung Galaxy Tab A9                      |Tablet     |Samsung|TFT LCD 8.7\"           |5490000 |4290000     |21.86          |NULL     |11         |4.0         |https://www.thegioididong.com/may-tinh-bang/may-tinh-bang/samsung-galaxy-tab-a9-4g       |\n",
      "|Samsung Galaxy Tab A9+                     |Tablet     |Samsung|TFT LCD 11\"            |7490000 |6690000     |10.68          |NULL     |16         |4.0         |https://www.thegioididong.com/may-tinh-bang/may-tinh-bang/samsung-galaxy-tab-a9-plus-5g  |\n",
      "|Samsung Galaxy Tab S6 Lite 2024 4G 4GB/64GB|Tablet     |Samsung|TFT LCD 10.4\"          |8990000 |8490000     |5.56           |NULL     |0          |0.0         |https://www.thegioididong.com/may-tinh-bang/may-tinh-bang/samsung-galaxy-tab-s6-lite-2024|\n",
      "|Samsung Galaxy Tab S9 5G                   |Tablet     |Samsung|Dynamic AMOLED 2X 11\"  |22990000|19990000    |13.05          |NULL     |3          |5.0         |https://www.thegioididong.com/may-tinh-bang/may-tinh-bang/samsung-galaxy-tab-s9-5g-128gb |\n",
      "|Samsung Galaxy Tab S9 FE WiFi series       |Tablet     |Samsung|TFT LCD 10.9\"          |9990000 |8990000     |10.01          |NULL     |13         |4.5         |https://www.thegioididong.com/may-tinh-bang/may-tinh-bang/samsung-galaxy-tab-s9-fe       |\n",
      "|Samsung Galaxy Tab S9 WiFi                 |Tablet     |Samsung|Dynamic AMOLED 2X 11\"  |19990000|16990000    |15.01          |NULL     |7          |5.0         |https://www.thegioididong.com/may-tinh-bang/may-tinh-bang/samsung-galaxy-tab-s9          |\n",
      "|Samsung Galaxy Tab S9+ 5G                  |Tablet     |Samsung|Dynamic AMOLED 2X 12.4\"|28990000|25990000    |10.35          |NULL     |3          |5.0         |https://www.thegioididong.com/may-tinh-bang/may-tinh-bang/samsung-galaxy-tab-s9-plus-5g  |\n",
      "|Samsung Galaxy Tab S9+ WiFi                |Tablet     |Samsung|Dynamic AMOLED 2X 12.4\"|25990000|22990000    |11.54          |NULL     |5          |5.0         |https://www.thegioididong.com/may-tinh-bang/may-tinh-bang/samsung-galaxy-tab-s9-plus     |\n",
      "+-------------------------------------------+-----------+-------+-----------------------+--------+------------+---------------+---------+-----------+------------+-----------------------------------------------------------------------------------------+\n",
      "only showing top 20 rows\n",
      "\n"
     ]
    }
   ],
   "source": [
    "from functions import string_to_int_udf\n",
    "\n",
    "processed_tablet_df = tablet_df.withColumn(\"OldPrice\", string_to_int_udf(F.col(\"old_price\")))\n",
    "processed_tablet_df = processed_tablet_df.withColumn(\"CurrentPrice\", string_to_int_udf(F.col(\"current_price\")))\\\n",
    "                                         .withColumn(\"GiftValue\", string_to_int_udf(F.col(\"gift\")))                                        \n",
    "processed_tablet_df = processed_tablet_df.withColumnRenamed('screen', 'Screen')\\\n",
    "                                         .withColumnRenamed('brand', 'Brand')\\\n",
    "                                         .withColumnRenamed('total_rating', 'TotalRating')\\\n",
    "                                         .withColumnRenamed('avg_score', 'AverageScore')\\\n",
    "                                         .withColumnRenamed('link', 'ProductLink')\n",
    "processed_tablet_df = processed_tablet_df.withColumn('DiscountPercent', F.round(((F.col(\"OldPrice\") - F.col(\"CurrentPrice\")) / F.col(\"OldPrice\") * 100), 2))\n",
    "processed_tablet_df = processed_tablet_df.orderBy(['Name', 'CurrentPrice'], ascending = [1, 0])\\\n",
    "                                         .withColumn('ProductType', F.lit('Tablet'))\\\n",
    "                                         .withColumn('Brand', F.when(processed_tablet_df.Brand == 'iPad (Apple)', 'Apple').otherwise(processed_tablet_df.Brand))\n",
    "processed_tablet_df = processed_tablet_df.select(['Name', 'ProductType', 'Brand', 'Screen', 'OldPrice', 'CurrentPrice', \"DiscountPercent\", 'GiftValue', 'TotalRating', 'AverageScore', 'ProductLink'])\n",
    "processed_tablet_df.show(truncate=False)"
   ]
  },
  {
   "cell_type": "markdown",
   "metadata": {},
   "source": [
    "### Brand"
   ]
  },
  {
   "cell_type": "code",
   "execution_count": 46,
   "metadata": {},
   "outputs": [
    {
     "name": "stdout",
     "output_type": "stream",
     "text": [
      "+---+-------+\n",
      "| ID|  Brand|\n",
      "+---+-------+\n",
      "|  1|   Acer|\n",
      "|  2|  Apple|\n",
      "|  3|   Asus|\n",
      "|  4|   Dell|\n",
      "|  5|  HONOR|\n",
      "|  6|     HP|\n",
      "|  7|   Itel|\n",
      "|  8| Lenovo|\n",
      "|  9|    MSI|\n",
      "| 10|Masstel|\n",
      "| 11| Mobell|\n",
      "| 12|  Nokia|\n",
      "| 13|   OPPO|\n",
      "| 14|Samsung|\n",
      "| 15|    TCL|\n",
      "| 16|  Tecno|\n",
      "| 17| Xiaomi|\n",
      "| 18| realme|\n",
      "| 19|   vivo|\n",
      "+---+-------+\n",
      "\n"
     ]
    }
   ],
   "source": [
    "laptop_brands_df = processed_laptop_df.select('Brand').distinct()\n",
    "tablet_brands_df = processed_tablet_df.select('Brand').distinct()\n",
    "phone_brands_df = processed_phone_df.select('Brand').distinct()\n",
    "\n",
    "brands = laptop_brands_df.union(tablet_brands_df.union(phone_brands_df)).dropDuplicates().orderBy('Brand')\n",
    "brands = brands.withColumn('ID', F.monotonically_increasing_id() + 1)\n",
    "brands = brands.select([\"ID\", \"Brand\"])\n",
    "brands.show()"
   ]
  },
  {
   "cell_type": "code",
   "execution_count": 58,
   "metadata": {},
   "outputs": [],
   "source": [
    "processed_laptop_df.createOrReplaceTempView(\"laptops\")\n",
    "processed_tablet_df.createOrReplaceTempView(\"tablets\")\n",
    "processed_phone_df.createOrReplaceTempView(\"phones\")\n",
    "brands.createOrReplaceTempView(\"brands\")"
   ]
  },
  {
   "cell_type": "markdown",
   "metadata": {},
   "source": [
    "### All Products"
   ]
  },
  {
   "cell_type": "code",
   "execution_count": 77,
   "metadata": {},
   "outputs": [
    {
     "name": "stdout",
     "output_type": "stream",
     "text": [
      "+---+------------------------------------+-----------+-------+--------+------------+---------------+---------+----------------------------------------------------------------------------------------------+\n",
      "|ID |Name                                |ProductType|BrandID|OldPrice|CurrentPrice|DiscountPercent|GiftValue|LinkProduct                                                                                   |\n",
      "+---+------------------------------------+-----------+-------+--------+------------+---------------+---------+----------------------------------------------------------------------------------------------+\n",
      "|1  |Acer Aspire 3 A314 42P              |Laptop     |1      |13990000|13390000    |4.29           |1090000  |https://www.thegioididong.com/laptop/acer-aspire-3-a314-42p-r3b3-r7-nxksfsv001                |\n",
      "|2  |Acer Aspire 3 A315 44P              |Laptop     |1      |12990000|12490000    |3.85           |1090000  |https://www.thegioididong.com/laptop/acer-aspire-a315-44p-r9w8-r7-nxksjsv002                  |\n",
      "|3  |Acer Aspire 3 A315 510P 32EF        |Laptop     |1      |9990000 |8990000     |10.01          |1090000  |https://www.thegioididong.com/laptop/acer-aspire-3-a315-510p-32ef-i3-nxkdhsv001               |\n",
      "|4  |Acer Aspire 3 A315 58 54XF          |Laptop     |1      |14990000|11490000    |23.35          |1090000  |https://www.thegioididong.com/laptop/acer-aspire-3-a315-58-54xf-i5-nxam0sv007?utm_flashsale=1 |\n",
      "|5  |Acer Aspire 3 A315 58 589K          |Laptop     |1      |13990000|10990000    |21.44          |1090000  |https://www.thegioididong.com/laptop/acer-aspire-3-a315-58-589k-i5-nxam0sv008?utm_flashsale=1 |\n",
      "|6  |Acer Aspire 3 A315 59 38PG          |Laptop     |1      |13990000|10690000    |23.59          |1090000  |https://www.thegioididong.com/laptop/acer-aspire-3-a315-59-38pg-i3-nxk6tsv00a?utm_flashsale=1 |\n",
      "|7  |Acer Aspire 3 A315 59 5283          |Laptop     |1      |15990000|12990000    |18.76          |1090000  |https://www.thegioididong.com/laptop/acer-aspire-3-a315-59-5283-i5-nxk6tsv00b                 |\n",
      "|8  |Acer Aspire 5 A514 54 5127          |Laptop     |1      |15490000|12990000    |16.14          |1090000  |https://www.thegioididong.com/laptop/acer-aspire-a514-54-5127-i5-nxa28sv007                   |\n",
      "|9  |Acer Aspire 5 A514 56P 54TN         |Laptop     |1      |15990000|14290000    |10.63          |1090000  |https://www.thegioididong.com/laptop/acer-aspire-5-a514-56p-54tn-i5-nxkhrsv004                |\n",
      "|10 |Acer Aspire 5 A515 58M 56YX         |Laptop     |1      |17490000|16990000    |2.86           |1090000  |https://www.thegioididong.com/laptop/acer-aspire-5-a515-58m-56yx-i5-nxkq8sv005?utm_flashsale=1|\n",
      "|11 |Acer Aspire 5 A515 58M 79           |Laptop     |1      |20990000|20490000    |2.38           |1090000  |https://www.thegioididong.com/laptop/acer-aspire-5-a515-58m-79r7-i7-nxkq8sv007                |\n",
      "|12 |Acer Aspire 5 A515 58P 34RJ         |Laptop     |1      |13090000|10990000    |16.04          |1090000  |https://www.thegioididong.com/laptop/acer-aspire-5-a515-58p-34rj-i3-nxkhjsv003                |\n",
      "|13 |Acer Aspire Lite 14 51M 36MH        |Laptop     |1      |NULL    |10490000    |NULL           |1090000  |https://www.thegioididong.com/laptop/acer-aspire-lite-14-51m-36mh-i3-nxktvsv001               |\n",
      "|14 |Acer Aspire Lite 14 51M 36PN        |Laptop     |1      |NULL    |10990000    |NULL           |1090000  |https://www.thegioididong.com/laptop/acer-aspire-lite-14-51m-36pn-i3-nxktwsv001               |\n",
      "|15 |Acer Aspire Lite 14 51M 59BN        |Laptop     |1      |14990000|14490000    |3.34           |1090000  |https://www.thegioididong.com/laptop/acer-aspire-lite-14-51m-59bn-i5-nxktxsv001               |\n",
      "|16 |Acer Aspire Lite 15 51M 5542        |Laptop     |1      |13990000|12990000    |7.15           |1090000  |https://www.thegioididong.com/laptop/acer-aspire-lite-15-51m-5542-i5-nxks5sv001               |\n",
      "|17 |Acer Aspire Lite 15 51M 55NB        |Laptop     |1      |12990000|11990000    |7.7            |1090000  |https://www.thegioididong.com/laptop/acer-aspire-lite-15-51m-55nb-i5-nxkrssv001               |\n",
      "|18 |Acer Aspire Lite AL16 51P 596H      |Laptop     |1      |13990000|13490000    |3.57           |1090000  |https://www.thegioididong.com/laptop/acer-aspire-lite-al16-51p-596h-i5-nxkwzsv002             |\n",
      "|19 |Acer Gaming Aspire 5 A515 58GM 51LB |Laptop     |1      |20490000|17990000    |12.2           |1090000  |https://www.thegioididong.com/laptop/acer-aspire-5-a515-58gm-51lb-i5-nxkq4sv002               |\n",
      "|20 |Acer Gaming Aspire 5 A515 58GM 53PZ |Laptop     |1      |20490000|17490000    |14.64          |1090000  |https://www.thegioididong.com/laptop/acer-aspire-a515-58gm-53pz-i5-nxkq4sv008                 |\n",
      "+---+------------------------------------+-----------+-------+--------+------------+---------------+---------+----------------------------------------------------------------------------------------------+\n",
      "only showing top 20 rows\n",
      "\n"
     ]
    }
   ],
   "source": [
    "def retrieve_product_info(product_type):\n",
    "    query = f\"\"\" SELECT \n",
    "                    Name, \n",
    "                    ProductType, \n",
    "                    brands.ID as BrandID, \n",
    "                    OldPrice, \n",
    "                    CurrentPrice, \n",
    "                    DiscountPercent, \n",
    "                    GiftValue, \n",
    "                    ProductLink\n",
    "                FROM {product_type} JOIN brands \n",
    "                ON {product_type}.Brand = brands.Brand\n",
    "            \"\"\"\n",
    "    product_info = spark.sql(query)\n",
    "    return product_info\n",
    "\n",
    "laptops_info = retrieve_product_info('laptops')\n",
    "tablets_info = retrieve_product_info('tablets')\n",
    "phones_info = retrieve_product_info('phones')\n",
    "\n",
    "product_info = laptops_info.union(tablets_info.union(phones_info)).orderBy('Name', ascending=[1])\n",
    "product_info = product_info.withColumn('ID', F.monotonically_increasing_id() + 1)\n",
    "product_info = product_info.select([\"ID\", \"Name\", \"ProductType\", \"BrandID\", \"OldPrice\", \"CurrentPrice\", \"DiscountPercent\", \"GiftValue\", \"ProductLink\"])\n",
    "product_info.show(truncate=False)"
   ]
  },
  {
   "cell_type": "code",
   "execution_count": 75,
   "metadata": {},
   "outputs": [
    {
     "name": "stderr",
     "output_type": "stream",
     "text": [
      "                                                                                \r"
     ]
    },
    {
     "name": "stdout",
     "output_type": "stream",
     "text": [
      "+---------+------------------------------------+--------------+---+---+------+\n",
      "|ProductID|Name                                |Core          |RAM|SSD|Screen|\n",
      "+---------+------------------------------------+--------------+---+---+------+\n",
      "|1        |Acer Aspire 3 A314 42P              |R3B3 R7 5700U |16 |512|NULL  |\n",
      "|2        |Acer Aspire 3 A315 44P              |R9W8 R7 5700U |8  |512|NULL  |\n",
      "|3        |Acer Aspire 3 A315 510P 32EF        |i3 N305       |8  |256|NULL  |\n",
      "|4        |Acer Aspire 3 A315 58 54XF          |i5 1135G7     |8  |512|NULL  |\n",
      "|5        |Acer Aspire 3 A315 58 589K          |i5 1135G7     |8  |256|NULL  |\n",
      "|6        |Acer Aspire 3 A315 59 38PG          |i3 1215U      |8  |512|NULL  |\n",
      "|7        |Acer Aspire 3 A315 59 5283          |i5 1235U      |8  |512|NULL  |\n",
      "|8        |Acer Aspire 5 A514 54 5127          |i5 1135G7     |8  |512|NULL  |\n",
      "|9        |Acer Aspire 5 A514 56P 54TN         |i5 1335U      |8  |512|NULL  |\n",
      "|10       |Acer Aspire 5 A515 58M 56YX         |i5 13420H     |16 |512|NULL  |\n",
      "|11       |Acer Aspire 5 A515 58M 79           |R7 i7 13620H  |16 |512|NULL  |\n",
      "|12       |Acer Aspire 5 A515 58P 34RJ         |i3 1315U      |8  |512|NULL  |\n",
      "|13       |Acer Aspire Lite 14 51M 36MH        |i3 1215U      |8  |256|NULL  |\n",
      "|14       |Acer Aspire Lite 14 51M 36PN        |i3 1215U      |8  |512|NULL  |\n",
      "|15       |Acer Aspire Lite 14 51M 59BN        |i5 1235U      |16 |512|NULL  |\n",
      "|16       |Acer Aspire Lite 15 51M 5542        |i5 1155G7     |16 |512|NULL  |\n",
      "|17       |Acer Aspire Lite 15 51M 55NB        |i5 1155G7     |8  |512|NULL  |\n",
      "|18       |Acer Aspire Lite AL16 51P 596H      |i5 1235U      |8  |512|NULL  |\n",
      "|19       |Acer Gaming Aspire 5 A515 58GM 51LB |i5 13420H     |16 |512|NULL  |\n",
      "|20       |Acer Gaming Aspire 5 A515 58GM 53PZ |i5 13420H     |8  |512|NULL  |\n",
      "+---------+------------------------------------+--------------+---+---+------+\n",
      "only showing top 20 rows\n",
      "\n"
     ]
    }
   ],
   "source": [
    "def retrieve_product_spec(product_type):\n",
    "    if product_type == 'laptops':\n",
    "        query = f\"\"\"SELECT \n",
    "                       Name, Core, RAM, SSD, 'NULL' AS Screen\n",
    "                    FROM {product_type}\n",
    "                \"\"\"\n",
    "    else:\n",
    "        query = f\"\"\"SELECT \n",
    "                       Name, 'NULL' AS Core, 'NULL' AS RAM, 'NULL' AS SSD, Screen\n",
    "                    FROM {product_type}\n",
    "                \"\"\"\n",
    "        \n",
    "    product_spec = spark.sql(query)\n",
    "    return product_spec\n",
    "\n",
    "laptops_spec = retrieve_product_spec('laptops')\n",
    "tablets_spec = retrieve_product_spec('tablets')\n",
    "phones_spec = retrieve_product_spec('phones')\n",
    "\n",
    "product_spec = laptops_spec.union(tablets_spec.union(phones_spec)).orderBy(\"Name\", ascending=[1])\n",
    "product_spec = product_spec.withColumn('ProductID', F.monotonically_increasing_id() + 1)\n",
    "product_spec = product_spec.select([\"ProductID\", \"Name\", \"Core\", \"RAM\", \"SSD\", \"Screen\"])\n",
    "product_spec.show(truncate=False)"
   ]
  },
  {
   "cell_type": "code",
   "execution_count": 76,
   "metadata": {},
   "outputs": [
    {
     "name": "stdout",
     "output_type": "stream",
     "text": [
      "+---------+------------------------------------+-----------+------------+\n",
      "|ProductID|Name                                |TotalRating|AverageScore|\n",
      "+---------+------------------------------------+-----------+------------+\n",
      "|1        |Acer Aspire 3 A314 42P              |0          |0.0         |\n",
      "|2        |Acer Aspire 3 A315 44P              |3          |4.0         |\n",
      "|3        |Acer Aspire 3 A315 510P 32EF        |26         |4.5         |\n",
      "|4        |Acer Aspire 3 A315 58 54XF          |45         |4.0         |\n",
      "|5        |Acer Aspire 3 A315 58 589K          |29         |4.0         |\n",
      "|6        |Acer Aspire 3 A315 59 38PG          |12         |4.0         |\n",
      "|7        |Acer Aspire 3 A315 59 5283          |8          |4.0         |\n",
      "|8        |Acer Aspire 5 A514 54 5127          |25         |4.0         |\n",
      "|9        |Acer Aspire 5 A514 56P 54TN         |0          |0.0         |\n",
      "|10       |Acer Aspire 5 A515 58M 56YX         |0          |0.0         |\n",
      "|11       |Acer Aspire 5 A515 58M 79           |0          |0.0         |\n",
      "|12       |Acer Aspire 5 A515 58P 34RJ         |11         |4.5         |\n",
      "|13       |Acer Aspire Lite 14 51M 36MH        |0          |0.0         |\n",
      "|14       |Acer Aspire Lite 14 51M 36PN        |0          |0.0         |\n",
      "|15       |Acer Aspire Lite 14 51M 59BN        |0          |0.0         |\n",
      "|16       |Acer Aspire Lite 15 51M 5542        |4          |2.5         |\n",
      "|17       |Acer Aspire Lite 15 51M 55NB        |0          |0.0         |\n",
      "|18       |Acer Aspire Lite AL16 51P 596H      |0          |0.0         |\n",
      "|19       |Acer Gaming Aspire 5 A515 58GM 51LB |23         |4.0         |\n",
      "|20       |Acer Gaming Aspire 5 A515 58GM 53PZ |0          |0.0         |\n",
      "+---------+------------------------------------+-----------+------------+\n",
      "only showing top 20 rows\n",
      "\n"
     ]
    }
   ],
   "source": [
    "def retrieve_product_rating(product_type):\n",
    "    query = f\"\"\"SELECT \n",
    "                    Name, TotalRating, AverageScore\n",
    "                FROM {product_type}\n",
    "               \"\"\"\n",
    "\n",
    "    product_rating = spark.sql(query)\n",
    "    return product_rating\n",
    "\n",
    "laptops_rating = retrieve_product_rating('laptops')\n",
    "tablets_rating = retrieve_product_rating('tablets')\n",
    "phones_rating = retrieve_product_rating('phones')\n",
    "\n",
    "product_rating = laptops_rating.union(tablets_rating.union(phones_rating)).orderBy(\"Name\", ascending=[1])\n",
    "product_rating = product_rating.withColumn('ProductID', F.monotonically_increasing_id() + 1)\n",
    "product_rating = product_rating.select([\"ProductID\", \"Name\", \"TotalRating\", \"AverageScore\"])\n",
    "product_rating.show(truncate=False)"
   ]
  },
  {
   "cell_type": "code",
   "execution_count": 34,
   "metadata": {},
   "outputs": [],
   "source": [
    "file_path = os.getcwd()\n",
    "data_path = os.path.join(file_path, 'data/tablets')\n",
    "\n",
    "if not os.path.exists(data_path):\n",
    "    os.makedirs(data_path)\n",
    "\n",
    "tablet_brands_df.write.save(f'{data_path}/tablets_brand.json', format=\"json\")\n",
    "tablets_info.write.save(f'{data_path}/tablets_info.json', format=\"json\")\n",
    "tablets_promotion.write.save(f'{data_path}/tablets_promotion.json', format=\"json\")\n",
    "tablets_price.write.save(f'{data_path}/tablets_price.json', format=\"json\")\n",
    "tablets_link.write.save(f'{data_path}/tablets_link.json', format=\"json\")"
   ]
  }
 ],
 "metadata": {
  "kernelspec": {
   "display_name": "Python 3",
   "language": "python",
   "name": "python3"
  },
  "language_info": {
   "codemirror_mode": {
    "name": "ipython",
    "version": 3
   },
   "file_extension": ".py",
   "mimetype": "text/x-python",
   "name": "python",
   "nbconvert_exporter": "python",
   "pygments_lexer": "ipython3",
   "version": "3.10.12"
  }
 },
 "nbformat": 4,
 "nbformat_minor": 2
}
