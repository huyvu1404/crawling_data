{
 "cells": [
  {
   "cell_type": "code",
   "execution_count": 12,
   "metadata": {},
   "outputs": [],
   "source": [
    "import pandas as pd"
   ]
  },
  {
   "cell_type": "code",
   "execution_count": 17,
   "metadata": {},
   "outputs": [
    {
     "name": "stdout",
     "output_type": "stream",
     "text": [
      "Data loaded sucessfully!\n"
     ]
    }
   ],
   "source": [
    "import mysql.connector\n",
    "from mysql.connector import Error\n",
    "from sqlalchemy import create_engine\n",
    "import pandas as pd\n",
    "import os\n",
    "\n",
    "mysql_config = {\n",
    "    \"host\": \"localhost\",\n",
    "    \"port\": 13308,\n",
    "    \"database\": \"tgdd\",\n",
    "    \"user\": \"root\",\n",
    "    \"password\": \"admin\"  \n",
    "}\n",
    "\n",
    "names = ['brands', 'products', 'products_spec', 'products_rating']\n",
    "path = './data/processed/'\n",
    "try:\n",
    "    engine = create_engine(f\"mysql+mysqlconnector://{mysql_config['user']}:{mysql_config['password']}@{mysql_config['host']}:{mysql_config['port']}/{mysql_config['database']}\")\n",
    "    with engine.connect() as conn:\n",
    "\n",
    "            for name in names:\n",
    "                csv_file_name =  f\"{name}.json\"\n",
    "                table_name = name\n",
    "                csv_file_path = os.path.join(path, csv_file_name)\n",
    "                df = pd.read_json(csv_file_path, orient='records', lines=True)\n",
    "                df.to_sql(\n",
    "                    table_name, \n",
    "                    con=conn, \n",
    "                    if_exists='append', \n",
    "                    index=False\n",
    "                )\n",
    "            print(\"Data loaded sucessfully!\")\n",
    "    \n",
    "except Error as e:\n",
    "    print(\"Error occured:\",e)\n",
    "    \n",
    "try:\n",
    "    with  mysql.connector.connect(**mysql_config) as connection:\n",
    "    \n",
    "        try:\n",
    "            cursor = connection.cursor()\n",
    "            cursor.execute(\"\"\"ALTER TABLE brands\n",
    "                              ADD PRIMARY KEY (ID);\n",
    "\n",
    "                              ALTER TABLE products\n",
    "                              ADD PRIMARY KEY (ID);\n",
    "\n",
    "                              ALTER TABLE products\n",
    "                              ADD CONSTRAINT fk_brands_products\n",
    "                              FOREIGN KEY (BrandID) REFERENCES brands(ID);\n",
    "\n",
    "                              ALTER TABLE products_spec\n",
    "                              ADD PRIMARY KEY (ProductID, Name);\n",
    "\n",
    "                              ALTER TABLE products_spec\n",
    "                              ADD CONSTRAINT fk_products_products_spec\n",
    "                              FOREIGN KEY (ProductID) REFERENCES products(ID);\n",
    "\n",
    "                              ALTER TABLE products_rating\n",
    "                              ADD PRIMARY KEY (ProductID, Name);\n",
    "\n",
    "                              ALTER TABLE products_rating\n",
    "                              ADD CONSTRAINT fk_products_products_rating\n",
    "                              FOREIGN KEY (ProductID) REFERENCES products(ID);    \n",
    "                        \"\"\")\n",
    "        \n",
    "        except Exception as e:\n",
    "            print(\"Error occured:\",e)\n",
    "            \n",
    "        finally:\n",
    "            cursor.close()\n",
    "except Error as e:\n",
    "    print(\"Error occured:\",e)\n",
    "                "
   ]
  },
  {
   "cell_type": "code",
   "execution_count": null,
   "metadata": {},
   "outputs": [],
   "source": []
  }
 ],
 "metadata": {
  "language_info": {
   "name": "python"
  }
 },
 "nbformat": 4,
 "nbformat_minor": 2
}
