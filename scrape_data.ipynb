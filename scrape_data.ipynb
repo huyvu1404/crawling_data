{
 "cells": [
  {
   "cell_type": "code",
   "execution_count": 1,
   "metadata": {},
   "outputs": [],
   "source": [
    "from functions import scrape_tablet_data, scrape_phone_data, scrape_laptop_data, save_data_to_file\n",
    "import os"
   ]
  },
  {
   "cell_type": "code",
   "execution_count": null,
   "metadata": {},
   "outputs": [],
   "source": [
    "laptops = scrape_laptop_data()\n",
    "tablets = scrape_tablet_data()\n",
    "phones = scrape_phone_data()"
   ]
  },
  {
   "cell_type": "code",
   "execution_count": null,
   "metadata": {},
   "outputs": [],
   "source": [
    "file_path = os.getcwd()\n",
    "data_path = os.path.join(file_path, 'data/raw')\n",
    "\n",
    "if not os.path.exists(data_path):\n",
    "    os.makedirs(data_path)\n",
    "    \n",
    "save_data_to_file(data_path, 'tgdd_laptops_data', laptops)\n",
    "save_data_to_file(data_path, 'tgdd_tablets_data', tablets)\n",
    "save_data_to_file(data_path, 'tgdd_phones_data', phones)"
   ]
  }
 ],
 "metadata": {
  "kernelspec": {
   "display_name": "Python 3",
   "language": "python",
   "name": "python3"
  },
  "language_info": {
   "codemirror_mode": {
    "name": "ipython",
    "version": 3
   },
   "file_extension": ".py",
   "mimetype": "text/x-python",
   "name": "python",
   "nbconvert_exporter": "python",
   "pygments_lexer": "ipython3",
   "version": "3.10.12"
  }
 },
 "nbformat": 4,
 "nbformat_minor": 2
}
